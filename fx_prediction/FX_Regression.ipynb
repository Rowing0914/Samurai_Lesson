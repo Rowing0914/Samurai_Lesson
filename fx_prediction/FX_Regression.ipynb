{
 "cells": [
  {
   "cell_type": "markdown",
   "metadata": {},
   "source": [
    "## Linear Regression with Scikit-learn\n",
    "### Dataset\n",
    "- Foreign Exchange Historical Dataset\n",
    "- Columns: TIME\tUSD\tGBP\tEUR\n",
    "    - TIME: 2002/04/01 - 2019/2/22\n",
    "    - USD: US Dollar exchange rate vs JPY\n",
    "    - GBP: British Sterling exchange rate vs JPY\n",
    "    - EUR: EUR exchange rate vs JPY\n",
    "- Data Amount: 4147"
   ]
  },
  {
   "cell_type": "markdown",
   "metadata": {},
   "source": [
    "## Import Modules\n",
    "- LinearRegression: https://scikit-learn.org/stable/modules/generated/sklearn.linear_model.LinearRegression.html\n",
    "- cross_val_score: Cross Validation method to calculate the error https://en.wikipedia.org/wiki/Cross-validation_(statistics) and you can check more on https://scikit-learn.org/stable/modules/model_evaluation.html\n",
    "- IPython: you can beautifully show the content of DataFrame  https://stackoverflow.com/questions/26873127/show-dataframe-as-table-in-ipython-notebook"
   ]
  },
  {
   "cell_type": "code",
   "execution_count": 1,
   "metadata": {},
   "outputs": [],
   "source": [
    "import pandas as pd\n",
    "import numpy as np\n",
    "from sklearn.linear_model import LinearRegression\n",
    "from sklearn.model_selection import cross_val_score\n",
    "import matplotlib.pyplot as plt\n",
    "from IPython.display import display, HTML"
   ]
  },
  {
   "cell_type": "markdown",
   "metadata": {},
   "source": [
    "## Investigate your data\n",
    "- first tip for making a machine learning model is deeply understand the data you have. in the end, what you will do is finding patterns in your data using machine learning algorithms. how you can spot the pattern without knowing its content! lol\n",
    "- So using default functions of pandas, e.g., `head()`, `tail()`, you can easily check the content of DataFrame. Also make sure that the data size of X and y are aligned!!"
   ]
  },
  {
   "cell_type": "code",
   "execution_count": 2,
   "metadata": {},
   "outputs": [
    {
     "data": {
      "text/html": [
       "<div>\n",
       "<style scoped>\n",
       "    .dataframe tbody tr th:only-of-type {\n",
       "        vertical-align: middle;\n",
       "    }\n",
       "\n",
       "    .dataframe tbody tr th {\n",
       "        vertical-align: top;\n",
       "    }\n",
       "\n",
       "    .dataframe thead th {\n",
       "        text-align: right;\n",
       "    }\n",
       "</style>\n",
       "<table border=\"1\" class=\"dataframe\">\n",
       "  <thead>\n",
       "    <tr style=\"text-align: right;\">\n",
       "      <th></th>\n",
       "      <th>TIME</th>\n",
       "      <th>USD</th>\n",
       "      <th>GBP</th>\n",
       "      <th>EUR</th>\n",
       "    </tr>\n",
       "  </thead>\n",
       "  <tbody>\n",
       "    <tr>\n",
       "      <th>0</th>\n",
       "      <td>2002/4/1</td>\n",
       "      <td>133.15</td>\n",
       "      <td>189.79</td>\n",
       "      <td>116.12</td>\n",
       "    </tr>\n",
       "    <tr>\n",
       "      <th>1</th>\n",
       "      <td>2002/4/2</td>\n",
       "      <td>133.20</td>\n",
       "      <td>191.78</td>\n",
       "      <td>117.18</td>\n",
       "    </tr>\n",
       "    <tr>\n",
       "      <th>2</th>\n",
       "      <td>2002/4/3</td>\n",
       "      <td>133.20</td>\n",
       "      <td>191.26</td>\n",
       "      <td>116.96</td>\n",
       "    </tr>\n",
       "    <tr>\n",
       "      <th>3</th>\n",
       "      <td>2002/4/4</td>\n",
       "      <td>133.10</td>\n",
       "      <td>191.13</td>\n",
       "      <td>117.15</td>\n",
       "    </tr>\n",
       "    <tr>\n",
       "      <th>4</th>\n",
       "      <td>2002/4/5</td>\n",
       "      <td>132.30</td>\n",
       "      <td>189.74</td>\n",
       "      <td>116.32</td>\n",
       "    </tr>\n",
       "  </tbody>\n",
       "</table>\n",
       "</div>"
      ],
      "text/plain": [
       "       TIME     USD     GBP     EUR\n",
       "0  2002/4/1  133.15  189.79  116.12\n",
       "1  2002/4/2  133.20  191.78  117.18\n",
       "2  2002/4/3  133.20  191.26  116.96\n",
       "3  2002/4/4  133.10  191.13  117.15\n",
       "4  2002/4/5  132.30  189.74  116.32"
      ]
     },
     "metadata": {},
     "output_type": "display_data"
    },
    {
     "data": {
      "text/html": [
       "<div>\n",
       "<style scoped>\n",
       "    .dataframe tbody tr th:only-of-type {\n",
       "        vertical-align: middle;\n",
       "    }\n",
       "\n",
       "    .dataframe tbody tr th {\n",
       "        vertical-align: top;\n",
       "    }\n",
       "\n",
       "    .dataframe thead th {\n",
       "        text-align: right;\n",
       "    }\n",
       "</style>\n",
       "<table border=\"1\" class=\"dataframe\">\n",
       "  <thead>\n",
       "    <tr style=\"text-align: right;\">\n",
       "      <th></th>\n",
       "      <th>TIME</th>\n",
       "      <th>USD</th>\n",
       "      <th>GBP</th>\n",
       "      <th>EUR</th>\n",
       "    </tr>\n",
       "  </thead>\n",
       "  <tbody>\n",
       "    <tr>\n",
       "      <th>4142</th>\n",
       "      <td>2019/2/18</td>\n",
       "      <td>110.54</td>\n",
       "      <td>142.64</td>\n",
       "      <td>124.93</td>\n",
       "    </tr>\n",
       "    <tr>\n",
       "      <th>4143</th>\n",
       "      <td>2019/2/19</td>\n",
       "      <td>110.58</td>\n",
       "      <td>142.71</td>\n",
       "      <td>124.98</td>\n",
       "    </tr>\n",
       "    <tr>\n",
       "      <th>4144</th>\n",
       "      <td>2019/2/20</td>\n",
       "      <td>110.76</td>\n",
       "      <td>144.67</td>\n",
       "      <td>125.71</td>\n",
       "    </tr>\n",
       "    <tr>\n",
       "      <th>4145</th>\n",
       "      <td>2019/2/21</td>\n",
       "      <td>110.70</td>\n",
       "      <td>144.34</td>\n",
       "      <td>125.52</td>\n",
       "    </tr>\n",
       "    <tr>\n",
       "      <th>4146</th>\n",
       "      <td>2019/2/22</td>\n",
       "      <td>110.78</td>\n",
       "      <td>144.46</td>\n",
       "      <td>125.57</td>\n",
       "    </tr>\n",
       "  </tbody>\n",
       "</table>\n",
       "</div>"
      ],
      "text/plain": [
       "           TIME     USD     GBP     EUR\n",
       "4142  2019/2/18  110.54  142.64  124.93\n",
       "4143  2019/2/19  110.58  142.71  124.98\n",
       "4144  2019/2/20  110.76  144.67  125.71\n",
       "4145  2019/2/21  110.70  144.34  125.52\n",
       "4146  2019/2/22  110.78  144.46  125.57"
      ]
     },
     "metadata": {},
     "output_type": "display_data"
    },
    {
     "data": {
      "text/html": [
       "<div>\n",
       "<style scoped>\n",
       "    .dataframe tbody tr th:only-of-type {\n",
       "        vertical-align: middle;\n",
       "    }\n",
       "\n",
       "    .dataframe tbody tr th {\n",
       "        vertical-align: top;\n",
       "    }\n",
       "\n",
       "    .dataframe thead th {\n",
       "        text-align: right;\n",
       "    }\n",
       "</style>\n",
       "<table border=\"1\" class=\"dataframe\">\n",
       "  <thead>\n",
       "    <tr style=\"text-align: right;\">\n",
       "      <th></th>\n",
       "      <th>USD</th>\n",
       "      <th>GBP</th>\n",
       "      <th>EUR</th>\n",
       "    </tr>\n",
       "  </thead>\n",
       "  <tbody>\n",
       "    <tr>\n",
       "      <th>count</th>\n",
       "      <td>4147.000000</td>\n",
       "      <td>4147.000000</td>\n",
       "      <td>4147.000000</td>\n",
       "    </tr>\n",
       "    <tr>\n",
       "      <th>mean</th>\n",
       "      <td>105.214538</td>\n",
       "      <td>170.540646</td>\n",
       "      <td>130.897323</td>\n",
       "    </tr>\n",
       "    <tr>\n",
       "      <th>std</th>\n",
       "      <td>13.440970</td>\n",
       "      <td>32.847350</td>\n",
       "      <td>15.439406</td>\n",
       "    </tr>\n",
       "    <tr>\n",
       "      <th>min</th>\n",
       "      <td>75.760000</td>\n",
       "      <td>117.540000</td>\n",
       "      <td>94.230000</td>\n",
       "    </tr>\n",
       "    <tr>\n",
       "      <th>25%</th>\n",
       "      <td>97.085000</td>\n",
       "      <td>142.245000</td>\n",
       "      <td>121.310000</td>\n",
       "    </tr>\n",
       "    <tr>\n",
       "      <th>50%</th>\n",
       "      <td>108.690000</td>\n",
       "      <td>170.630000</td>\n",
       "      <td>131.430000</td>\n",
       "    </tr>\n",
       "    <tr>\n",
       "      <th>75%</th>\n",
       "      <td>116.035000</td>\n",
       "      <td>196.550000</td>\n",
       "      <td>138.090000</td>\n",
       "    </tr>\n",
       "    <tr>\n",
       "      <th>max</th>\n",
       "      <td>133.200000</td>\n",
       "      <td>250.570000</td>\n",
       "      <td>169.620000</td>\n",
       "    </tr>\n",
       "  </tbody>\n",
       "</table>\n",
       "</div>"
      ],
      "text/plain": [
       "               USD          GBP          EUR\n",
       "count  4147.000000  4147.000000  4147.000000\n",
       "mean    105.214538   170.540646   130.897323\n",
       "std      13.440970    32.847350    15.439406\n",
       "min      75.760000   117.540000    94.230000\n",
       "25%      97.085000   142.245000   121.310000\n",
       "50%     108.690000   170.630000   131.430000\n",
       "75%     116.035000   196.550000   138.090000\n",
       "max     133.200000   250.570000   169.620000"
      ]
     },
     "metadata": {},
     "output_type": "display_data"
    },
    {
     "name": "stdout",
     "output_type": "stream",
     "text": [
      "(4147, 3) (4147,)\n"
     ]
    }
   ],
   "source": [
    "data = pd.read_csv('quote.csv')\n",
    "display(data.head())\n",
    "display(data.tail())\n",
    "display(data.describe())\n",
    "\n",
    "# X = data.drop(['TIME','USD'],axis=1)\n",
    "X = data.drop(['USD'],axis=1)\n",
    "y = data.USD\n",
    "print(X.shape, y.shape)"
   ]
  },
  {
   "cell_type": "markdown",
   "metadata": {},
   "source": [
    "## Create a model with linear regression algorithm"
   ]
  },
  {
   "cell_type": "code",
   "execution_count": 3,
   "metadata": {
    "scrolled": true
   },
   "outputs": [
    {
     "name": "stdout",
     "output_type": "stream",
     "text": [
      "(1245, 3) (2903, 3) (1245,) (2903,)\n",
      "Score: -109.672\n"
     ]
    }
   ],
   "source": [
    "test_index = int(len(X)*0.3)\n",
    "\n",
    "X_train,X_test,y_train,y_test = X.loc[:test_index, :], X.loc[test_index:, :], y[:test_index+1], y[test_index:]\n",
    "print(X_train.shape,X_test.shape,y_train.shape,y_test.shape)\n",
    "\n",
    "clf = LinearRegression()\n",
    "cv_mse = sum(cross_val_score(clf, X_train.iloc[:, 1:], y_train, scoring='neg_mean_squared_error', cv=5)) / 5\n",
    "print(\"Score: %.3f\" % cv_mse)\n",
    "\n",
    "clf.fit(X_train.iloc[:, 1:],y_train)\n",
    "Y_test_pred = clf.predict(X_test.iloc[:, 1:])"
   ]
  },
  {
   "cell_type": "markdown",
   "metadata": {},
   "source": [
    "## check how well did it learn!!"
   ]
  },
  {
   "cell_type": "code",
   "execution_count": 4,
   "metadata": {},
   "outputs": [
    {
     "data": {
      "text/plain": [
       "[<matplotlib.lines.Line2D at 0x7f8f78ffda20>]"
      ]
     },
     "execution_count": 4,
     "metadata": {},
     "output_type": "execute_result"
    },
    {
     "data": {
      "image/png": "[encoded data removed]",
      "text/plain": [
       "<Figure size 360x360 with 1 Axes>"
      ]
     },
     "metadata": {
      "needs_background": "light"
     },
     "output_type": "display_data"
    }
   ],
   "source": [
    "from matplotlib.pyplot import figure\n",
    "figure(figsize=(5,5))\n",
    "plt.plot(range(len(y_test)), y_test, label = \"Original\")\n",
    "plt.plot(range(len(y_test)), Y_test_pred, label = \"Original\")"
   ]
  },
  {
   "cell_type": "code",
   "execution_count": null,
   "metadata": {},
   "outputs": [],
   "source": []
  }
 ],
 "metadata": {
  "kernelspec": {
   "display_name": "Python 3",
   "language": "python",
   "name": "python3"
  },
  "language_info": {
   "codemirror_mode": {
    "name": "ipython",
    "version": 3
   },
   "file_extension": ".py",
   "mimetype": "text/x-python",
   "name": "python",
   "nbconvert_exporter": "python",
   "pygments_lexer": "ipython3",
   "version": "3.6.6"
  }
 },
 "nbformat": 4,
 "nbformat_minor": 2
}
